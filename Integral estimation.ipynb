{
 "cells": [
  {
   "cell_type": "code",
   "execution_count": 8,
   "metadata": {},
   "outputs": [
    {
     "name": "stdout",
     "output_type": "stream",
     "text": [
      "0.0 3.1622776601683795 0\n",
      "0.4008990757515768\n",
      "0.23729092735031387\n"
     ]
    }
   ],
   "source": [
    "import numpy as np\n",
    "from scipy.stats import norm\n",
    "from scipy.integrate import quad\n",
    "\n",
    "def integrand(u, m, mu_1, mu_2, mu_3, sigma_1, sigma_2, sigma_3):\n",
    "    return 2*m * norm.pdf(u) * np.power(norm.cdf(u), 2*m-1) * norm.cdf((u - mu_1)/sigma_1) * norm.cdf((u - mu_2)/sigma_2) * norm.cdf((u - mu_3)/sigma_3)\n",
    "\n",
    "delta = 0.0\n",
    "rho = 0.1\n",
    "n = 1000 # max k\n",
    "m = n - 3\n",
    "\n",
    "# set rho to its absolute value, since it's symmetric\n",
    "rho = np.abs(rho)\n",
    "\n",
    "# original estimator parameters\n",
    "mu_1 = np.sqrt(n)*delta*rho\n",
    "sigma_1 = 1 + delta*delta*rho*rho\n",
    "mu_2 = np.sqrt(n)*(1-delta)*rho\n",
    "sigma_2 = 1 + (1-delta)*(1-delta)*rho*rho\n",
    "mu_3 = 0\n",
    "sigma_3 = 1\n",
    "\n",
    "print(mu_1, mu_2, mu_3)\n",
    "\n",
    "integral_result = quad(integrand, -np.inf, np.inf, args=(m, mu_1, mu_2, mu_3, sigma_1, sigma_2, sigma_3))\n",
    "\n",
    "print(1-integral_result[0])\n",
    "\n",
    "# rolling estimator parameters\n",
    "mu_1 = np.sqrt(n/2)*delta*rho\n",
    "sigma_1 = 1 + delta*delta*rho*rho/2\n",
    "mu_2 = np.sqrt(n/2)*(1-delta)*rho\n",
    "sigma_2 = 1 + (1-delta)*(1-delta)*rho*rho/2\n",
    "mu_3 = np.sqrt(n/2)*rho\n",
    "sigma_3 = 1 + rho*rho/2\n",
    "\n",
    "integral_result = quad(integrand, -np.inf, np.inf, args=(m, mu_1, mu_2, mu_3, sigma_1, sigma_2, sigma_3))\n",
    "\n",
    "print(1-integral_result[0])\n",
    "\n"
   ]
  }
 ],
 "metadata": {
  "kernelspec": {
   "display_name": "base",
   "language": "python",
   "name": "python3"
  },
  "language_info": {
   "codemirror_mode": {
    "name": "ipython",
    "version": 3
   },
   "file_extension": ".py",
   "mimetype": "text/x-python",
   "name": "python",
   "nbconvert_exporter": "python",
   "pygments_lexer": "ipython3",
   "version": "3.12.4"
  }
 },
 "nbformat": 4,
 "nbformat_minor": 2
}
